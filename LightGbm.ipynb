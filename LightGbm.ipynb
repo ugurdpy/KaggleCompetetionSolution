{
  "cells": [
    {
      "cell_type": "markdown",
      "metadata": {},
      "source": [
        "The import of necessary libraries"
      ]
    },
    {
      "cell_type": "code",
      "execution_count": 114,
      "metadata": {
        "id": "d80Gs2ZCGikz"
      },
      "outputs": [],
      "source": [
        "import numpy as np\n",
        "import pandas as pd\n",
        "import seaborn as sns\n",
        "import matplotlib.pyplot as plt\n",
        "from xgboost import XGBRegressor\n",
        "from lightgbm import LGBMRegressor\n",
        "from sklearn.model_selection import train_test_split\n",
        "from skopt import BayesSearchCV\n",
        "from sklearn.metrics import mean_squared_error\n",
        "import warnings\n",
        "warnings.filterwarnings('ignore')"
      ]
    },
    {
      "cell_type": "markdown",
      "metadata": {},
      "source": [
        "Importing CSV files into Python"
      ]
    },
    {
      "cell_type": "code",
      "execution_count": 115,
      "metadata": {
        "id": "EIzBWhpnHUn8"
      },
      "outputs": [],
      "source": [
        "df_train=pd.read_csv('c:\\\\Users\\\\PC\\\\Desktop\\\\Çalışmalarım\\\\KaggleCompetetionTop%20Solution\\\\train.csv')\n",
        "df2_test=pd.read_csv('c:\\\\Users\\\\PC\\\\Desktop\\\\Çalışmalarım\\\\KaggleCompetetionTop%20Solution\\\\test.csv')\n",
        "df_new=pd.read_csv('c:\\\\Users\\\\PC\\\\Desktop\\\\Çalışmalarım\\\\KaggleCompetetionTop%20Solution\\\\new.csv')"
      ]
    },
    {
      "cell_type": "markdown",
      "metadata": {},
      "source": [
        "Merging the Train and New files in a compatible way"
      ]
    },
    {
      "cell_type": "code",
      "execution_count": 116,
      "metadata": {},
      "outputs": [],
      "source": [
        "df_new['milage'] = df_new['milage'].str.replace(' mi.', '', regex=False)\n",
        "df_new['milage'] = df_new['milage'].str.replace(',', '', regex=False)\n",
        "df_new['milage'] = df_new['milage'].astype(int)\n",
        "df_new['price'] = df_new['price'].str.replace('$', '', regex=False)\n",
        "df_new['price'] = df_new['price'].str.replace(',', '', regex=False)\n",
        "df_new['price'] = df_new['price'].astype(int)\n",
        "valid_brands = df_train['brand'].unique()\n",
        "filtered_df_new = df_new[df_new['brand'].isin(valid_brands)]\n",
        "df_combined = pd.concat([df_train, filtered_df_new], ignore_index=True)\n",
        "df_train=df_combined"
      ]
    },
    {
      "cell_type": "markdown",
      "metadata": {},
      "source": [
        "Preprocessing and Feature Engineering"
      ]
    },
    {
      "cell_type": "code",
      "execution_count": 117,
      "metadata": {
        "id": "tktEsDqUGtX6"
      },
      "outputs": [],
      "source": [
        "def accident_col(df):\n",
        "    df['accident_dummy'] = df['accident'].apply(lambda x: 0 if x == 'NONE REPORTED' else (1 if x == 'AT LEAST 1 ACCIDENT OR DAMAGE REPORTED' else None))\n",
        "    return df\n"
      ]
    },
    {
      "cell_type": "code",
      "execution_count": 118,
      "metadata": {
        "id": "H95yb_-WGxuH"
      },
      "outputs": [],
      "source": [
        "def transmission_col(df):\n",
        "    def classify_transmission(transmission):\n",
        "        if 'M/T' in transmission or 'MT' in transmission or 'MANUAL' in transmission:\n",
        "            return 'M/T'\n",
        "        elif 'A/T' in transmission or 'AT' in transmission or 'AUTOMATIC' in transmission:\n",
        "            return 'A/T'\n",
        "        else:\n",
        "            return 'OTHER'\n",
        "    \n",
        "    df['transmission'] = df['transmission'].apply(classify_transmission)\n",
        "    return df"
      ]
    },
    {
      "cell_type": "code",
      "execution_count": 119,
      "metadata": {
        "id": "mAhxj1meG0Hr"
      },
      "outputs": [],
      "source": [
        "def ext_and_int_col(df):\n",
        "    df['ext_col'] = df['ext_col'].replace({\n",
        "        r'.*BLACK.*': 'BLACK',\n",
        "        r'.*WHITE.*': 'WHITE',\n",
        "        r'.*GRAY.*': 'GRAY',\n",
        "        r'.*SILVER.*': 'SILVER',\n",
        "        r'.*BLUE.*': 'BLUE',\n",
        "        r'.*RED.*': 'RED',\n",
        "    }, regex=True)\n",
        "\n",
        "    df['ext_col'] = df['ext_col'].apply(lambda x: x if x in ['BLACK', 'WHITE', 'GRAY', 'SILVER', 'BLUE', 'RED'] else 'OTHERS')\n",
        "\n",
        "    df['int_col'] = df['int_col'].replace({\n",
        "        r'.*BLACK.*': 'IBLACK',\n",
        "        r'.*WHITE.*': 'IWHITE',\n",
        "        r'.*GRAY.*': 'IGRAY',\n",
        "        r'.*SILVER.*': 'ISILVER',\n",
        "        r'.*BLUE.*': 'IBLUE',\n",
        "        r'.*RED.*': 'IRED',\n",
        "        r'.*GREEN.*': 'IGREEN',\n",
        "        r'.*BEIGE.*': 'IBEIGE',\n",
        "        r'.*ORANGE.*': 'IORANGE',\n",
        "    }, regex=True)\n",
        "\n",
        "    df['int_col'] = df['int_col'].apply(lambda x: x if x in ['IBLACK', 'IBEIGE', 'IGRAY'] else 'IOTHERS')\n",
        "\n",
        "    return df\n"
      ]
    },
    {
      "cell_type": "code",
      "execution_count": 120,
      "metadata": {
        "id": "o_YrBK6rGvP8"
      },
      "outputs": [],
      "source": [
        "def fuel_type_col(df):\n",
        "    df['fuel_type'] = df['fuel_type'].replace({'HYBRID': 'HYBRID', 'PLUG-IN HYBRID': 'HYBRID','NOT SUPPORTED':'OTHER','–':'OTHER'})\n",
        "    return df\n"
      ]
    },
    {
      "cell_type": "code",
      "execution_count": 121,
      "metadata": {
        "id": "NxLcVxS-G2-8"
      },
      "outputs": [],
      "source": [
        "def engine_col(df):\n",
        "    # Create hp column\n",
        "    df['hp'] = df['engine'].str.extract(r'(\\d+\\.\\d+)HP').astype(float, errors='ignore')\n",
        "\n",
        "    # Create engine displacement\n",
        "    df['engine displacement'] = df['engine'].str.extract(r'(\\d+\\.\\d+)L')\n",
        "    df['engine displacement'] = df['engine displacement'].fillna(df['engine'].str.extract(r'(\\d+\\.\\d+)LITER')[0])\n",
        "    df['engine displacement'] = df['engine displacement'].astype(float, errors='ignore')\n",
        "\n",
        "    # Create cylinder\n",
        "    df['cylinder'] = df['engine'].str.extract(r'(\\d+) CYLINDER')\n",
        "    df['cylinder'] = df['cylinder'].fillna(df['engine'].str.extract(r'V(\\d)')[0])\n",
        "    df['cylinder'] = df['cylinder'].astype('Int64', errors='ignore')\n",
        "\n",
        "    # Create fuel type\n",
        "    df['fuel'] = df['engine'].str.extract(r'(GASOLINE|DIESEL|ELECTRIC|HYBRID)')\n",
        "    df['fuel_type'] = df['fuel_type'].combine_first(df['fuel'])\n",
        "\n",
        "    # Is it V type or not\n",
        "    df['is_v_engine'] = df['engine'].str.contains(r'V\\d+', case=False, na=False)\n",
        "\n",
        "    # Create turbo\n",
        "    df['turbo'] = df['engine'].str.contains('TWIN TURBO', case=False, na=False)\n",
        "    \n",
        "    # Create dohc\n",
        "    df['dohc'] = df['engine'].str.contains('DOHC', case=False, na=False)\n",
        "    return df\n"
      ]
    },
    {
      "cell_type": "code",
      "execution_count": 122,
      "metadata": {
        "id": "U1g0cXALNZKz"
      },
      "outputs": [],
      "source": [
        "def fill_na(df, bugatti_avg_hp_external=1300):\n",
        "    df['hp'] = df.groupby('brand')['hp'].transform(lambda x: x.fillna(x.mean()))\n",
        "    df.loc[(df['brand'] == 'BUGATTI') & (df['hp'].isnull()), 'hp'] = bugatti_avg_hp_external\n",
        "\n",
        "    most_common_fuel = df.groupby('brand')['fuel_type'].agg(lambda x: x.mode()[0] if not x.mode().empty else None)\n",
        "    most_common_displacement = df.groupby('brand')['engine displacement'].agg(lambda x: x.mode()[0] if not x.mode().empty else None)\n",
        "    most_common_cylinder = df.groupby('brand')['cylinder'].agg(lambda x: x.mode()[0] if not x.mode().empty else None)\n",
        "\n",
        "    df['fuel_type'] = df.apply(\n",
        "        lambda row: most_common_fuel[row['brand']] if pd.isna(row['fuel_type']) else row['fuel_type'],\n",
        "        axis=1\n",
        "    )\n",
        "\n",
        "    df['engine displacement'] = df.apply(\n",
        "        lambda row: most_common_displacement[row['brand']] if pd.isna(row['engine displacement']) else row['engine displacement'],\n",
        "        axis=1\n",
        "    )\n",
        "\n",
        "    df['cylinder'] = df.apply(\n",
        "        lambda row: most_common_cylinder[row['brand']] if pd.isna(row['cylinder']) else row['cylinder'],\n",
        "        axis=1\n",
        "    )\n",
        "\n",
        "    df['cylinder'] = df.apply(\n",
        "        lambda row: most_common_cylinder[row['brand']] if pd.isna(row['cylinder']) else row['cylinder'],\n",
        "        axis=1\n",
        "    )\n",
        "    df['accident_dummy'].fillna(0, inplace=True)\n",
        "    \n",
        "    if df['cylinder'].isnull().any():\n",
        "        most_common_cylinder_value = df['cylinder'].mode()[0]\n",
        "        df['cylinder'].fillna(most_common_cylinder_value, inplace=True)\n",
        "\n",
        "    return df\n"
      ]
    },
    {
      "cell_type": "code",
      "execution_count": 123,
      "metadata": {
        "id": "SFx8npI7HArv"
      },
      "outputs": [],
      "source": [
        "def one_hot_encoding(df):\n",
        "    df= pd.get_dummies(df, columns=['brand', 'fuel_type', 'transmission', 'ext_col', 'int_col'], drop_first=False)\n",
        "    return df\n"
      ]
    },
    {
      "cell_type": "code",
      "execution_count": 124,
      "metadata": {},
      "outputs": [],
      "source": [
        "def age_and_usage(df):\n",
        "    current_year = 2024\n",
        "    df['age'] = current_year - df['model_year']\n",
        "\n",
        "    df['annual_km'] = df.apply(\n",
        "        lambda row: row['milage'] / row['age'] if row['age'] > 0 else row['milage'],\n",
        "        axis=1\n",
        "    )\n",
        "    \n",
        "    return df"
      ]
    },
    {
      "cell_type": "markdown",
      "metadata": {},
      "source": [
        "Creating Model"
      ]
    },
    {
      "cell_type": "code",
      "execution_count": 125,
      "metadata": {
        "id": "HwYx01bCHL2j"
      },
      "outputs": [],
      "source": [
        "def model_create(df, target='price', model_type='lightgbm'):\n",
        "    X = df.drop([target], axis=1)\n",
        "    y = df[target]\n",
        "\n",
        "    X_train, X_test, y_train, y_test = train_test_split(X, y, test_size=0.1, random_state=42)\n",
        "\n",
        "    if  model_type == 'xgboost':\n",
        "        model = XGBRegressor()\n",
        "    elif model_type == 'lightgbm':\n",
        "        model = LGBMRegressor(verbosity=-1)\n",
        "    else:\n",
        "        raise ValueError(\"Geçersiz model türü. Lütfen uygun bir model türü girin.\")\n",
        "    model.fit(X_train, y_train)\n",
        "\n",
        "    y_pred = model.predict(X_test)\n",
        "\n",
        "    return model, X_train, X_test, y_train, y_test, y_pred"
      ]
    },
    {
      "cell_type": "markdown",
      "metadata": {},
      "source": [
        "Performing Optimization"
      ]
    },
    {
      "cell_type": "code",
      "execution_count": 126,
      "metadata": {
        "id": "t9oCVnP6HNhI"
      },
      "outputs": [],
      "source": [
        "def bayesian_hyperparameter_optimization(X_train, y_train, model_type):\n",
        "    if model_type == 'lightgbm':\n",
        "        model = LGBMRegressor(verbosity=-1)\n",
        "        search_spaces = {\n",
        "            'n_estimators': (30, 300),\n",
        "            'learning_rate': (0.01, 0.2, 'log-uniform'),\n",
        "            'num_leaves': (10, 100),\n",
        "            'max_depth': (-1, 15),\n",
        "        }\n",
        "        \n",
        "    elif model_type == 'xgboost':\n",
        "        model = XGBRegressor()\n",
        "        search_spaces = {\n",
        "            'n_estimators': (100, 500),\n",
        "            'learning_rate': (0.01, 0.3, 'log-uniform'),\n",
        "            'max_depth': (3, 15),\n",
        "            'min_child_weight': (1, 10)\n",
        "        }\n",
        "        \n",
        "    else:\n",
        "        raise ValueError(\"Geçersiz model türü.\")\n",
        "    \n",
        "    opt = BayesSearchCV(model, search_spaces, n_iter=32, cv=5, scoring='neg_mean_squared_error', n_jobs=-1,random_state=42)\n",
        "    opt.fit(X_train, y_train)\n",
        "\n",
        "    return opt.best_estimator_, opt.best_params_\n"
      ]
    },
    {
      "cell_type": "markdown",
      "metadata": {},
      "source": [
        "Outlier detection and replacement with threshold values"
      ]
    },
    {
      "cell_type": "code",
      "execution_count": 127,
      "metadata": {},
      "outputs": [],
      "source": [
        "def change_outlier(df):\n",
        "    Q1 = df['price'].quantile(0.01)\n",
        "    Q3 = df['price'].quantile(0.99)\n",
        "    IQR = Q3 - Q1\n",
        "\n",
        "    upper_bound = Q3 + 1.5 * IQR\n",
        "    lower_bound = Q1 - 1.5 * IQR\n",
        "\n",
        "    df.loc[df['price'] < lower_bound, 'price'] = lower_bound\n",
        "    df.loc[df['price'] > upper_bound, 'price'] = upper_bound\n",
        "    \n",
        "    return df\n"
      ]
    },
    {
      "cell_type": "markdown",
      "metadata": {},
      "source": [
        "Root Mean Squarred Error"
      ]
    },
    {
      "cell_type": "code",
      "execution_count": 128,
      "metadata": {
        "id": "FXvWZCQRHfCZ"
      },
      "outputs": [],
      "source": [
        "def calculate_rmse(y_true, y_pred):\n",
        "    mse = mean_squared_error(y_true, y_pred)\n",
        "    rmse = np.sqrt(mse)\n",
        "\n",
        "    return rmse"
      ]
    },
    {
      "cell_type": "markdown",
      "metadata": {},
      "source": [
        "Creating pipeline"
      ]
    },
    {
      "cell_type": "code",
      "execution_count": 137,
      "metadata": {
        "id": "Qm7aRIAoHQkJ"
      },
      "outputs": [],
      "source": [
        "def all_processing(df, bugatti_avg_hp_external=1300):\n",
        "    df = df.drop(columns=['id', 'model', 'clean_title'])\n",
        "\n",
        "    df = df.applymap(lambda x: x.upper() if isinstance(x, str) else x)\n",
        "\n",
        "    df = accident_col(df)\n",
        "\n",
        "    df = transmission_col(df)\n",
        "\n",
        "    df = ext_and_int_col(df)\n",
        "\n",
        "    df = fuel_type_col(df)\n",
        "\n",
        "    df = engine_col(df)\n",
        "\n",
        "    df = fill_na(df, bugatti_avg_hp_external)\n",
        "\n",
        "    df= one_hot_encoding(df)\n",
        "    df= age_and_usage(df)\n",
        "    #df=change_outlier(df)\n",
        "    df = df.drop(columns=['fuel', 'engine', 'accident'], )\n",
        "\n",
        "    return df\n"
      ]
    },
    {
      "cell_type": "markdown",
      "metadata": {},
      "source": [
        "Performing"
      ]
    },
    {
      "cell_type": "code",
      "execution_count": 130,
      "metadata": {
        "id": "LMfkbtI6HWE9"
      },
      "outputs": [],
      "source": [
        "df_train=all_processing(df_train)"
      ]
    },
    {
      "cell_type": "code",
      "execution_count": 131,
      "metadata": {
        "colab": {
          "base_uri": "https://localhost:8080/"
        },
        "id": "rAC70yPFHYCm",
        "outputId": "44e809b9-6328-41d0-d864-07941ce7e513"
      },
      "outputs": [],
      "source": [
        "model, X_train, X_test, y_train, y_test, y_pred = model_create(df_train, target='price', model_type='lightgbm')"
      ]
    },
    {
      "cell_type": "code",
      "execution_count": 132,
      "metadata": {
        "colab": {
          "base_uri": "https://localhost:8080/"
        },
        "id": "cxCAd3oDHaYw",
        "outputId": "927c8b8e-0eac-4434-f5a6-86cf38c83511"
      },
      "outputs": [
        {
          "name": "stdout",
          "output_type": "stream",
          "text": [
            "En iyi model: LGBMRegressor(learning_rate=0.04075414696903732, max_depth=6, n_estimators=299,\n",
            "              num_leaves=40, verbosity=-1)\n",
            "En iyi parametreler: OrderedDict({'learning_rate': 0.04075414696903732, 'max_depth': 6, 'n_estimators': 299, 'num_leaves': 40})\n"
          ]
        }
      ],
      "source": [
        "best_model, best_params = bayesian_hyperparameter_optimization(X_train, y_train, model_type='lightgbm')\n",
        "print(\"En iyi model:\", best_model)\n",
        "print(\"En iyi parametreler:\", best_params)"
      ]
    },
    {
      "cell_type": "code",
      "execution_count": 133,
      "metadata": {
        "id": "PiMIB1vDHcJ6"
      },
      "outputs": [],
      "source": [
        "y_pred_best = best_model.predict(X_test)"
      ]
    },
    {
      "cell_type": "code",
      "execution_count": 138,
      "metadata": {
        "colab": {
          "base_uri": "https://localhost:8080/"
        },
        "id": "r3LOl4auHij5",
        "outputId": "912b6a89-8a86-40ba-8760-c77aa81e6fb9"
      },
      "outputs": [
        {
          "data": {
            "text/plain": [
              "41103.27135602732"
            ]
          },
          "execution_count": 138,
          "metadata": {},
          "output_type": "execute_result"
        }
      ],
      "source": [
        "calculate_rmse(y_test,y_pred_best)"
      ]
    },
    {
      "cell_type": "code",
      "execution_count": 139,
      "metadata": {
        "id": "YCRDhCuFHmVx"
      },
      "outputs": [],
      "source": [
        "df2_test_processed = all_processing(df2_test)"
      ]
    },
    {
      "cell_type": "code",
      "execution_count": 140,
      "metadata": {
        "id": "jNH2rqMeHoS8"
      },
      "outputs": [],
      "source": [
        "df2_test_processed['brand_POLESTAR'] = False\n",
        "df2_test_processed['brand_SMART'] = False"
      ]
    },
    {
      "cell_type": "code",
      "execution_count": 141,
      "metadata": {
        "id": "TjBqQhvZHqg-"
      },
      "outputs": [],
      "source": [
        "train_columns = df_train.columns.tolist()\n",
        "df2_test_processed = df2_test_processed.reindex(columns=train_columns, fill_value=False)"
      ]
    },
    {
      "cell_type": "code",
      "execution_count": 142,
      "metadata": {
        "id": "XZT_7x-RHtAZ"
      },
      "outputs": [],
      "source": [
        "X_test = df2_test_processed.drop(columns=['price'], errors='ignore')"
      ]
    },
    {
      "cell_type": "code",
      "execution_count": 143,
      "metadata": {
        "id": "SG_FqDDbHusG"
      },
      "outputs": [],
      "source": [
        "y_pred = best_model.predict(X_test)"
      ]
    },
    {
      "cell_type": "code",
      "execution_count": 144,
      "metadata": {
        "id": "q06JYFXnHwcH"
      },
      "outputs": [],
      "source": [
        "results = pd.DataFrame({\n",
        "    'price': y_pred\n",
        "})"
      ]
    },
    {
      "cell_type": "markdown",
      "metadata": {},
      "source": [
        "Submission"
      ]
    },
    {
      "cell_type": "code",
      "execution_count": 145,
      "metadata": {
        "id": "ayLxP2HvHyKT"
      },
      "outputs": [],
      "source": [
        "df2_test_processed['id'] = range(188533, 188533 + len(df2_test_processed))\n",
        "\n",
        "\n",
        "df_results = pd.DataFrame({\n",
        "    'id': df2_test_processed['id'],\n",
        "    'price': y_pred\n",
        "})\n",
        "\n",
        "\n",
        "df_results.to_csv('c:\\\\Users\\\\PC\\\\Downloads\\\\SubmissionPrediction.csv', index=False)"
      ]
    }
  ],
  "metadata": {
    "colab": {
      "provenance": []
    },
    "kernelspec": {
      "display_name": "Python 3",
      "name": "python3"
    },
    "language_info": {
      "codemirror_mode": {
        "name": "ipython",
        "version": 3
      },
      "file_extension": ".py",
      "mimetype": "text/x-python",
      "name": "python",
      "nbconvert_exporter": "python",
      "pygments_lexer": "ipython3",
      "version": "3.12.1"
    }
  },
  "nbformat": 4,
  "nbformat_minor": 0
}
